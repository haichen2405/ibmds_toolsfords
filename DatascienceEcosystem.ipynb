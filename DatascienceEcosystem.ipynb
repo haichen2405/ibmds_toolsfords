{
 "cells": [
  {
   "cell_type": "markdown",
   "id": "5215b5b7",
   "metadata": {},
   "source": [
    "# Data science tools and ecosystem"
   ]
  },
  {
   "cell_type": "markdown",
   "id": "c1f3a2b5",
   "metadata": {},
   "source": [
    "In this notebook, data science tools and ecosystem are sumarized."
   ]
  },
  {
   "cell_type": "markdown",
   "id": "3fa0caaa",
   "metadata": {},
   "source": [
    "**Objectives:**\n",
    "<ul>\n",
    "<li>Create a jupiter notebook</li>\n",
    "<li>Insert code and markdown cells</li>\n",
    "<li>Share mynotebook through github</li>\n",
    "</ul>"
   ]
  },
  {
   "cell_type": "markdown",
   "id": "72cfd58e",
   "metadata": {},
   "source": [
    "Some of the popular languages that Data scientists use are:\n",
    "<ol>\n",
    "<li>Python</li>\n",
    "<li>R</li>\n",
    "<li>Java script</li>\n",
    "</ol>"
   ]
  },
  {
   "cell_type": "markdown",
   "id": "998bb90e",
   "metadata": {},
   "source": [
    "Some of the commonly used libraries used by Data Scientists include:\n",
    "<ol>\n",
    "<li>Numpy</li>\n",
    "<li>Pandas</li>\n",
    "<li>Matplotlib</li>\n",
    "</ol>"
   ]
  },
  {
   "cell_type": "markdown",
   "id": "2b9e86f5",
   "metadata": {},
   "source": [
    "<table style=\"width:20%\">\n",
    "<tr>\n",
    "<th> Data Science tools </th>\n",
    "</tr>\n",
    "<tr>\n",
    "<td> R </td>\n",
    "</tr>\n",
    "<tr>\n",
    "<td> PYTHON </td>\n",
    "</tr>\n",
    "<tr>\n",
    "<td> WEKA </td>\n",
    "</tr>\n",
    "</table>"
   ]
  },
  {
   "cell_type": "markdown",
   "id": "63c95c0e",
   "metadata": {},
   "source": [
    "### Below are a few examples of evaluating arithmetic expresstions in pyton"
   ]
  },
  {
   "cell_type": "code",
   "execution_count": 1,
   "id": "0a1cc2cd",
   "metadata": {},
   "outputs": [
    {
     "data": {
      "text/plain": [
       "17"
      ]
     },
     "execution_count": 1,
     "metadata": {},
     "output_type": "execute_result"
    }
   ],
   "source": [
    "# this is simple arithmetic expression to mutiply then add integers\n",
    "(3*4)+5"
   ]
  },
  {
   "cell_type": "code",
   "execution_count": 2,
   "id": "3c52b72c",
   "metadata": {},
   "outputs": [
    {
     "data": {
      "text/plain": [
       "3.3333333333333335"
      ]
     },
     "execution_count": 2,
     "metadata": {},
     "output_type": "execute_result"
    }
   ],
   "source": [
    "# this will convert 200 minutes to hours by diving by 60\n",
    "200/60"
   ]
  },
  {
   "cell_type": "markdown",
   "id": "905ece99",
   "metadata": {},
   "source": [
    "## Author\n",
    "Tran Viet Hai"
   ]
  },
  {
   "cell_type": "code",
   "execution_count": null,
   "id": "345272d9",
   "metadata": {},
   "outputs": [],
   "source": []
  }
 ],
 "metadata": {
  "kernelspec": {
   "display_name": "Python 3",
   "language": "python",
   "name": "python3"
  },
  "language_info": {
   "codemirror_mode": {
    "name": "ipython",
    "version": 3
   },
   "file_extension": ".py",
   "mimetype": "text/x-python",
   "name": "python",
   "nbconvert_exporter": "python",
   "pygments_lexer": "ipython3",
   "version": "3.8.8"
  }
 },
 "nbformat": 4,
 "nbformat_minor": 5
}
